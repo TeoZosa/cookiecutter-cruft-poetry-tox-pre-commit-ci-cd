{
 "cells": [
  {
   "cell_type": "code",
   "execution_count": 1,
   "outputs": [],
   "source": [
    "import operator\n",
    "from typing import List"
   ],
   "metadata": {
    "collapsed": false,
    "pycharm": {
     "name": "#%%\n"
    }
   }
  },
  {
   "cell_type": "code",
   "execution_count": 2,
   "outputs": [],
   "source": [
    "def my_sum(nums: List[int]) -> int:\n",
    "    \"\"\"Returns the sum of a given list of integers\n",
    "\n",
    "    Without using the `+` operator\n",
    "\n",
    "    Args:\n",
    "        nums:\n",
    "\n",
    "    Examples:\n",
    "        >>> my_sum([1, 1])\n",
    "        2\n",
    "        >>> my_sum([])\n",
    "        0\n",
    "\n",
    "    \"\"\"\n",
    "    running_sum = 0\n",
    "    for num in nums:\n",
    "        running_sum = operator.add(running_sum, num)\n",
    "    return running_sum"
   ],
   "metadata": {
    "collapsed": false,
    "pycharm": {
     "name": "#%%\n"
    }
   }
  },
  {
   "cell_type": "code",
   "execution_count": 3,
   "outputs": [
    {
     "name": "stdout",
     "output_type": "stream",
     "text": [
      "1 + 1 + 1 + 1 = 4\n"
     ]
    }
   ],
   "source": [
    "test_nums = [1] * 4\n",
    "print(f\"{' + '.join(str(x) for x in test_nums)} = {my_sum(test_nums)}\")"
   ],
   "metadata": {
    "collapsed": false,
    "pycharm": {
     "name": "#%%\n"
    }
   }
  },
  {
   "cell_type": "code",
   "execution_count": 3,
   "outputs": [],
   "source": [],
   "metadata": {
    "collapsed": false,
    "pycharm": {
     "name": "#%%\n"
    }
   }
  }
 ],
 "metadata": {
  "kernelspec": {
   "display_name": "Python 3",
   "language": "python",
   "name": "python3"
  },
  "language_info": {
   "codemirror_mode": {
    "name": "ipython",
    "version": 2
   },
   "file_extension": ".py",
   "mimetype": "text/x-python",
   "name": "python",
   "nbconvert_exporter": "python",
   "pygments_lexer": "ipython2",
   "version": "2.7.6"
  }
 },
 "nbformat": 4,
 "nbformat_minor": 0
}